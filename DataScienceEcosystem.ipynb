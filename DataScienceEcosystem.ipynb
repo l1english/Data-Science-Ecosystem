{
 "cells": [
  {
   "cell_type": "markdown",
   "id": "207f1798-8ab8-44c4-9e76-f4ab328b25e8",
   "metadata": {},
   "source": [
    "# Data Science Ecosystem"
   ]
  },
  {
   "cell_type": "markdown",
   "id": "d8cbfcc4-4c04-4ca1-8d8d-9689a8342e22",
   "metadata": {},
   "source": [
    "## Author: ##\n",
    "Roimemy RALISON"
   ]
  },
  {
   "cell_type": "markdown",
   "id": "cad5998b-36f5-4ab9-a900-7d8be59ef9d1",
   "metadata": {},
   "source": [
    "In this notebook, Data Science tools and ecosystem are summarised."
   ]
  },
  {
   "cell_type": "markdown",
   "id": "5876fa64-aa4c-4704-ab9c-eb3c564e64e3",
   "metadata": {},
   "source": [
    "**Learning Objectives**"
   ]
  },
  {
   "cell_type": "markdown",
   "id": "3ab71827-7b67-4579-bcd5-465e1db6bad5",
   "metadata": {},
   "source": [
    "This notebook for beginner Data Scientists will:\n",
    "- introduce you to the most popular languages, libraries and environments used in Data Science\n",
    "- show you the most basic operations you can perform with these tools\n",
    "- help you get better as you progress through useful tips and recommendations\n",
    "\n",
    "(Note: You are not supposed to remember every single tool mentioned in this notebook, which can be overwhelming. It will only cover the most important ones for you to start with in your early Data Science career.) "
   ]
  },
  {
   "cell_type": "markdown",
   "id": "ae59941a-1f0c-479f-aa53-0bf288d13235",
   "metadata": {},
   "source": [
    "Some of the popular languages that Data Scientists use are:\n",
    "1. Python\n",
    "2. Julia\n",
    "3. R\n",
    "4. SQL\n",
    "5. Java"
   ]
  },
  {
   "cell_type": "markdown",
   "id": "dc92cad7-18fd-43ee-a09b-67f04723b6fd",
   "metadata": {},
   "source": [
    "Some of the commonly used libraries used by Data Scientists include:\n",
    "1. NumPy\n",
    "2. Matplotlib\n",
    "3. Pandas\n",
    "4. Seaborn\n",
    "5. scikit-learn"
   ]
  },
  {
   "cell_type": "markdown",
   "id": "8f0a02af-3c90-4058-984b-b8e088199c27",
   "metadata": {},
   "source": [
    "The following table includes some of the open-source development environments used in Data Science.\n",
    "| Data Science Tools |\n",
    "|:-:|\n",
    "|Jupyter Notebooks/ JupyterLab|\n",
    "|RStudio|\n",
    "|Spyder|\n"
   ]
  },
  {
   "cell_type": "markdown",
   "id": "e264a7ed-4b28-43d9-a85c-1e3ad2effa1e",
   "metadata": {},
   "source": [
    "### Below are a few examples of evaluating arithmetic expressions in Python. ###"
   ]
  },
  {
   "cell_type": "markdown",
   "id": "556d2dbc-9c6d-40b4-805b-9ae7a0520b3d",
   "metadata": {},
   "source": [
    "This is a simple arithmetic expression to multiply then add integers."
   ]
  },
  {
   "cell_type": "code",
   "execution_count": 19,
   "id": "aaf81738-c177-4a9c-8256-fe9cb018e204",
   "metadata": {
    "collapsed": true,
    "jupyter": {
     "outputs_hidden": true
    }
   },
   "outputs": [
    {
     "data": {
      "text/plain": [
       "17"
      ]
     },
     "execution_count": 19,
     "metadata": {},
     "output_type": "execute_result"
    }
   ],
   "source": [
    "(3*4)+5"
   ]
  },
  {
   "cell_type": "markdown",
   "id": "28260103-c790-4d33-a7dd-05776380252c",
   "metadata": {},
   "source": [
    "This will convert 200 minutes to hours by dividing by 60:"
   ]
  },
  {
   "cell_type": "code",
   "execution_count": 25,
   "id": "a832f269-c27b-40be-ad50-44e23ecbb84b",
   "metadata": {},
   "outputs": [
    {
     "data": {
      "text/plain": [
       "3"
      ]
     },
     "execution_count": 25,
     "metadata": {},
     "output_type": "execute_result"
    }
   ],
   "source": [
    "200//60"
   ]
  },
  {
   "cell_type": "markdown",
   "id": "c752d1db-7493-4801-9c2b-929b26591444",
   "metadata": {},
   "source": [
    "Or"
   ]
  },
  {
   "cell_type": "code",
   "execution_count": 43,
   "id": "7350e53e-1388-49d8-9194-f01ec12122f9",
   "metadata": {},
   "outputs": [
    {
     "data": {
      "text/plain": [
       "3.3333333333333335"
      ]
     },
     "execution_count": 43,
     "metadata": {},
     "output_type": "execute_result"
    }
   ],
   "source": [
    "200/60"
   ]
  },
  {
   "cell_type": "markdown",
   "id": "34c91c8b-1e15-4190-a938-f5ffcc00a200",
   "metadata": {},
   "source": [
    "TIP: For such time conversions, it is more accurate to use"
   ]
  },
  {
   "cell_type": "code",
   "execution_count": 35,
   "id": "7601136b-6d8d-4045-b355-1549e5cd22ae",
   "metadata": {},
   "outputs": [
    {
     "data": {
      "text/plain": [
       "'3:20:00'"
      ]
     },
     "execution_count": 35,
     "metadata": {},
     "output_type": "execute_result"
    }
   ],
   "source": [
    "from datetime import timedelta\n",
    "str(timedelta(minutes=200))"
   ]
  }
 ],
 "metadata": {
  "kernelspec": {
   "display_name": "Python 3 (ipykernel)",
   "language": "python",
   "name": "python3"
  },
  "language_info": {
   "codemirror_mode": {
    "name": "ipython",
    "version": 3
   },
   "file_extension": ".py",
   "mimetype": "text/x-python",
   "name": "python",
   "nbconvert_exporter": "python",
   "pygments_lexer": "ipython3",
   "version": "3.12.4"
  }
 },
 "nbformat": 4,
 "nbformat_minor": 5
}
