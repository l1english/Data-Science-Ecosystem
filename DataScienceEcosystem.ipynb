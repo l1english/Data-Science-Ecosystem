{
 "cells": [
  {
   "cell_type": "markdown",
   "id": "207f1798-8ab8-44c4-9e76-f4ab328b25e8",
   "metadata": {},
   "source": [
    "# Data Science Tools and Ecosystem"
   ]
  },
  {
   "cell_type": "markdown",
   "id": "01a97aa5-069d-4283-bdd5-ac619680541b",
   "metadata": {},
   "source": [
    "## Author: ##\n",
    "Roimemy RALISON"
   ]
  },
  {
   "cell_type": "markdown",
   "id": "46f247d6-0e91-4bba-89a3-900ff57a2d84",
   "metadata": {},
   "source": [
    "In this notebook, Data Science tools and ecosystem are summarised."
   ]
  },
  {
   "cell_type": "markdown",
   "id": "074d4720-48af-45be-ac80-bb814d81e961",
   "metadata": {},
   "source": [
    "**Objectives:**"
   ]
  },
  {
   "cell_type": "markdown",
   "id": "c1d9db0c-43cb-4c20-92f2-e57a8812ce54",
   "metadata": {},
   "source": [
    "This notebook for beginner Data Scientists will:\n",
    "- introduce you to the most popular languages, libraries and environments used in Data Science\n",
    "- show you the most basic operations you can perform with these tools\n",
    "- help you get better as you progress through useful tips and recommendations\n",
    "\n",
    "(Note: You are not supposed to remember every single tool mentioned in this notebook, which can be overwhelming. It will only cover the most important ones for you to start with in your early Data Science career.) "
   ]
  },
  {
   "cell_type": "markdown",
   "id": "3444acad-53d7-4f9d-aab0-6bdc27d877f8",
   "metadata": {},
   "source": [
    "Some of the popular languages that Data Scientists use are:\n",
    "1. Python\n",
    "2. Julia\n",
    "3. R\n",
    "4. SQL\n",
    "5. Java"
   ]
  },
  {
   "cell_type": "markdown",
   "id": "0a6fbc80-3782-49fe-a9d1-cfde3678dbca",
   "metadata": {},
   "source": [
    "Some of the commonly used libraries used by Data Scientists include:\n",
    "1. NumPy\n",
    "2. Matplotlib\n",
    "3. Pandas\n",
    "4. Seaborn\n",
    "5. scikit-learn"
   ]
  },
  {
   "cell_type": "markdown",
   "id": "d82773bf-849d-4999-a4ed-1ba773c9b526",
   "metadata": {},
   "source": [
    "The following table includes some of the open-source development environments used in Data Science.\n",
    "| Data Science Tools |\n",
    "|:-:|\n",
    "|Jupyter Notebooks/ JupyterLab|\n",
    "|RStudio|\n",
    "|Spyder|\n"
   ]
  },
  {
   "cell_type": "markdown",
   "id": "42e4bcb1-1148-495b-9719-6717a571e68c",
   "metadata": {},
   "source": [
    "### Below are a few examples of evaluating arithmetic expressions in Python. ###"
   ]
  },
  {
   "cell_type": "markdown",
   "id": "4e7edbfe-4ffd-4d72-9742-f107bd9c78b9",
   "metadata": {},
   "source": [
    "This is a simple arithmetic expression to multiply then add integers."
   ]
  },
  {
   "cell_type": "code",
   "execution_count": 19,
   "id": "aaf81738-c177-4a9c-8256-fe9cb018e204",
   "metadata": {},
   "outputs": [
    {
     "data": {
      "text/plain": [
       "17"
      ]
     },
     "execution_count": 19,
     "metadata": {},
     "output_type": "execute_result"
    }
   ],
   "source": [
    "(3*4)+5"
   ]
  },
  {
   "cell_type": "markdown",
   "id": "815b4bc6-d9e6-4122-a03e-646b9dc90f20",
   "metadata": {},
   "source": [
    "This will convert 200 minutes to hours by dividing by 60:"
   ]
  },
  {
   "cell_type": "code",
   "execution_count": 82,
   "id": "a832f269-c27b-40be-ad50-44e23ecbb84b",
   "metadata": {},
   "outputs": [
    {
     "data": {
      "text/plain": [
       "3.3333333333333335"
      ]
     },
     "execution_count": 82,
     "metadata": {},
     "output_type": "execute_result"
    }
   ],
   "source": [
    "200/60"
   ]
  }
 ],
 "metadata": {
  "kernelspec": {
   "display_name": "Python 3 (ipykernel)",
   "language": "python",
   "name": "python3"
  },
  "language_info": {
   "codemirror_mode": {
    "name": "ipython",
    "version": 3
   },
   "file_extension": ".py",
   "mimetype": "text/x-python",
   "name": "python",
   "nbconvert_exporter": "python",
   "pygments_lexer": "ipython3",
   "version": "3.12.4"
  }
 },
 "nbformat": 4,
 "nbformat_minor": 5
}
